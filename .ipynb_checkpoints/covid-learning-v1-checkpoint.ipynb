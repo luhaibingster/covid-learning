{
 "cells": [
  {
   "cell_type": "code",
   "execution_count": 36,
   "metadata": {},
   "outputs": [],
   "source": [
    "import pandas as pd\n",
    "import numpy as np\n",
    "import matplotlib.pyplot as plt\n",
    "# read data\n",
    "df = pd.read_csv(\"test.csv\")\n",
    "df.drop(columns=df.columns[0], \n",
    "        axis=1, \n",
    "        inplace=True)"
   ]
  },
  {
   "cell_type": "code",
   "execution_count": 14,
   "metadata": {},
   "outputs": [
    {
     "name": "stdout",
     "output_type": "stream",
     "text": [
      " Volume in drive C has no label.\n",
      " Volume Serial Number is FEB5-37D9\n",
      "\n",
      " Directory of C:\\Users\\hlu\\Desktop\\github\\covid-learning\\data\n",
      "\n",
      "09/08/2021  11:08 AM    <DIR>          .\n",
      "09/08/2021  11:08 AM    <DIR>          ..\n",
      "07/27/2021  05:36 PM            13,560 districts_info.csv\n",
      "09/08/2021  11:08 AM    <DIR>          engagement_data\n",
      "07/27/2021  05:37 PM            44,683 products_info.csv\n",
      "07/27/2021  05:36 PM             6,117 README.md\n",
      "               3 File(s)         64,360 bytes\n",
      "               3 Dir(s)  242,307,751,936 bytes free\n"
     ]
    }
   ],
   "source": [
    "ls data"
   ]
  },
  {
   "cell_type": "code",
   "execution_count": 12,
   "metadata": {},
   "outputs": [
    {
     "data": {
      "text/html": [
       "<div>\n",
       "<style scoped>\n",
       "    .dataframe tbody tr th:only-of-type {\n",
       "        vertical-align: middle;\n",
       "    }\n",
       "\n",
       "    .dataframe tbody tr th {\n",
       "        vertical-align: top;\n",
       "    }\n",
       "\n",
       "    .dataframe thead th {\n",
       "        text-align: right;\n",
       "    }\n",
       "</style>\n",
       "<table border=\"1\" class=\"dataframe\">\n",
       "  <thead>\n",
       "    <tr style=\"text-align: right;\">\n",
       "      <th></th>\n",
       "      <th>district_id</th>\n",
       "      <th>state</th>\n",
       "      <th>locale</th>\n",
       "      <th>pct_black/hispanic</th>\n",
       "      <th>pct_free/reduced</th>\n",
       "      <th>county_connections_ratio</th>\n",
       "      <th>pp_total_raw</th>\n",
       "    </tr>\n",
       "  </thead>\n",
       "  <tbody>\n",
       "    <tr>\n",
       "      <th>0</th>\n",
       "      <td>8815</td>\n",
       "      <td>Illinois</td>\n",
       "      <td>Suburb</td>\n",
       "      <td>[0, 0.2[</td>\n",
       "      <td>[0, 0.2[</td>\n",
       "      <td>[0.18, 1[</td>\n",
       "      <td>[14000, 16000[</td>\n",
       "    </tr>\n",
       "    <tr>\n",
       "      <th>1</th>\n",
       "      <td>2685</td>\n",
       "      <td>NaN</td>\n",
       "      <td>NaN</td>\n",
       "      <td>NaN</td>\n",
       "      <td>NaN</td>\n",
       "      <td>NaN</td>\n",
       "      <td>NaN</td>\n",
       "    </tr>\n",
       "    <tr>\n",
       "      <th>2</th>\n",
       "      <td>4921</td>\n",
       "      <td>Utah</td>\n",
       "      <td>Suburb</td>\n",
       "      <td>[0, 0.2[</td>\n",
       "      <td>[0.2, 0.4[</td>\n",
       "      <td>[0.18, 1[</td>\n",
       "      <td>[6000, 8000[</td>\n",
       "    </tr>\n",
       "    <tr>\n",
       "      <th>3</th>\n",
       "      <td>3188</td>\n",
       "      <td>NaN</td>\n",
       "      <td>NaN</td>\n",
       "      <td>NaN</td>\n",
       "      <td>NaN</td>\n",
       "      <td>NaN</td>\n",
       "      <td>NaN</td>\n",
       "    </tr>\n",
       "    <tr>\n",
       "      <th>4</th>\n",
       "      <td>2238</td>\n",
       "      <td>NaN</td>\n",
       "      <td>NaN</td>\n",
       "      <td>NaN</td>\n",
       "      <td>NaN</td>\n",
       "      <td>NaN</td>\n",
       "      <td>NaN</td>\n",
       "    </tr>\n",
       "  </tbody>\n",
       "</table>\n",
       "</div>"
      ],
      "text/plain": [
       "   district_id     state  locale pct_black/hispanic pct_free/reduced  \\\n",
       "0         8815  Illinois  Suburb           [0, 0.2[         [0, 0.2[   \n",
       "1         2685       NaN     NaN                NaN              NaN   \n",
       "2         4921      Utah  Suburb           [0, 0.2[       [0.2, 0.4[   \n",
       "3         3188       NaN     NaN                NaN              NaN   \n",
       "4         2238       NaN     NaN                NaN              NaN   \n",
       "\n",
       "  county_connections_ratio    pp_total_raw  \n",
       "0                [0.18, 1[  [14000, 16000[  \n",
       "1                      NaN             NaN  \n",
       "2                [0.18, 1[    [6000, 8000[  \n",
       "3                      NaN             NaN  \n",
       "4                      NaN             NaN  "
      ]
     },
     "execution_count": 12,
     "metadata": {},
     "output_type": "execute_result"
    }
   ],
   "source": [
    "districts = pd.read_csv('data/districts_info.csv')\n",
    "\n",
    "districts.head()"
   ]
  },
  {
   "cell_type": "code",
   "execution_count": 15,
   "metadata": {},
   "outputs": [
    {
     "data": {
      "text/html": [
       "<div>\n",
       "<style scoped>\n",
       "    .dataframe tbody tr th:only-of-type {\n",
       "        vertical-align: middle;\n",
       "    }\n",
       "\n",
       "    .dataframe tbody tr th {\n",
       "        vertical-align: top;\n",
       "    }\n",
       "\n",
       "    .dataframe thead th {\n",
       "        text-align: right;\n",
       "    }\n",
       "</style>\n",
       "<table border=\"1\" class=\"dataframe\">\n",
       "  <thead>\n",
       "    <tr style=\"text-align: right;\">\n",
       "      <th></th>\n",
       "      <th>LP ID</th>\n",
       "      <th>URL</th>\n",
       "      <th>Product Name</th>\n",
       "      <th>Provider/Company Name</th>\n",
       "      <th>Sector(s)</th>\n",
       "      <th>Primary Essential Function</th>\n",
       "    </tr>\n",
       "  </thead>\n",
       "  <tbody>\n",
       "    <tr>\n",
       "      <th>0</th>\n",
       "      <td>13117</td>\n",
       "      <td>https://www.splashmath.com</td>\n",
       "      <td>SplashLearn</td>\n",
       "      <td>StudyPad Inc.</td>\n",
       "      <td>PreK-12</td>\n",
       "      <td>LC - Digital Learning Platforms</td>\n",
       "    </tr>\n",
       "    <tr>\n",
       "      <th>1</th>\n",
       "      <td>66933</td>\n",
       "      <td>https://abcmouse.com</td>\n",
       "      <td>ABCmouse.com</td>\n",
       "      <td>Age of Learning, Inc</td>\n",
       "      <td>PreK-12</td>\n",
       "      <td>LC - Digital Learning Platforms</td>\n",
       "    </tr>\n",
       "    <tr>\n",
       "      <th>2</th>\n",
       "      <td>50479</td>\n",
       "      <td>https://www.abcya.com</td>\n",
       "      <td>ABCya!</td>\n",
       "      <td>ABCya.com, LLC</td>\n",
       "      <td>PreK-12</td>\n",
       "      <td>LC - Sites, Resources &amp; Reference - Games &amp; Si...</td>\n",
       "    </tr>\n",
       "    <tr>\n",
       "      <th>3</th>\n",
       "      <td>92993</td>\n",
       "      <td>http://www.aleks.com/</td>\n",
       "      <td>ALEKS</td>\n",
       "      <td>McGraw-Hill PreK-12</td>\n",
       "      <td>PreK-12; Higher Ed</td>\n",
       "      <td>LC - Digital Learning Platforms</td>\n",
       "    </tr>\n",
       "    <tr>\n",
       "      <th>4</th>\n",
       "      <td>73104</td>\n",
       "      <td>https://www.achieve3000.com/</td>\n",
       "      <td>Achieve3000</td>\n",
       "      <td>Achieve3000</td>\n",
       "      <td>PreK-12</td>\n",
       "      <td>LC - Digital Learning Platforms</td>\n",
       "    </tr>\n",
       "  </tbody>\n",
       "</table>\n",
       "</div>"
      ],
      "text/plain": [
       "   LP ID                           URL  Product Name  Provider/Company Name  \\\n",
       "0  13117    https://www.splashmath.com   SplashLearn          StudyPad Inc.   \n",
       "1  66933          https://abcmouse.com  ABCmouse.com  Age of Learning, Inc    \n",
       "2  50479         https://www.abcya.com        ABCya!         ABCya.com, LLC   \n",
       "3  92993         http://www.aleks.com/         ALEKS    McGraw-Hill PreK-12   \n",
       "4  73104  https://www.achieve3000.com/   Achieve3000            Achieve3000   \n",
       "\n",
       "            Sector(s)                         Primary Essential Function  \n",
       "0             PreK-12                    LC - Digital Learning Platforms  \n",
       "1             PreK-12                    LC - Digital Learning Platforms  \n",
       "2             PreK-12  LC - Sites, Resources & Reference - Games & Si...  \n",
       "3  PreK-12; Higher Ed                    LC - Digital Learning Platforms  \n",
       "4             PreK-12                    LC - Digital Learning Platforms  "
      ]
     },
     "execution_count": 15,
     "metadata": {},
     "output_type": "execute_result"
    }
   ],
   "source": [
    "products = pd.read_csv('data/products_info.csv')\n",
    "products.head()"
   ]
  },
  {
   "cell_type": "code",
   "execution_count": 11,
   "metadata": {},
   "outputs": [
    {
     "data": {
      "text/plain": [
       "state\n",
       "Arizona                  1\n",
       "North Dakota             1\n",
       "Florida                  1\n",
       "Minnesota                1\n",
       "Texas                    2\n",
       "Tennessee                2\n",
       "New Jersey               2\n",
       "Michigan                 2\n",
       "New Hampshire            2\n",
       "District Of Columbia     3\n",
       "Wisconsin                3\n",
       "North Carolina           4\n",
       "Virginia                 4\n",
       "Missouri                 6\n",
       "Washington               6\n",
       "Indiana                  7\n",
       "New York                 8\n",
       "Ohio                    11\n",
       "California              12\n",
       "Illinois                18\n",
       "Massachusetts           21\n",
       "Utah                    29\n",
       "Connecticut             30\n",
       "Name: state, dtype: int64"
      ]
     },
     "execution_count": 11,
     "metadata": {},
     "output_type": "execute_result"
    }
   ],
   "source": [
    "districts.groupby(by='state')['state'].count().sort_values()"
   ]
  },
  {
   "cell_type": "code",
   "execution_count": 16,
   "metadata": {},
   "outputs": [
    {
     "name": "stdout",
     "output_type": "stream",
     "text": [
      "<class 'pandas.core.frame.DataFrame'>\n",
      "RangeIndex: 372 entries, 0 to 371\n",
      "Data columns (total 6 columns):\n",
      "LP ID                         372 non-null int64\n",
      "URL                           372 non-null object\n",
      "Product Name                  372 non-null object\n",
      "Provider/Company Name         371 non-null object\n",
      "Sector(s)                     352 non-null object\n",
      "Primary Essential Function    352 non-null object\n",
      "dtypes: int64(1), object(5)\n",
      "memory usage: 17.5+ KB\n"
     ]
    }
   ],
   "source": [
    "products.info()"
   ]
  },
  {
   "cell_type": "code",
   "execution_count": 21,
   "metadata": {},
   "outputs": [
    {
     "data": {
      "text/plain": [
       "PreK-12                          170\n",
       "PreK-12; Higher Ed; Corporate    115\n",
       "PreK-12; Higher Ed                65\n",
       "Corporate                          1\n",
       "Higher Ed; Corporate               1\n",
       "Name: Sector(s), dtype: int64"
      ]
     },
     "execution_count": 21,
     "metadata": {},
     "output_type": "execute_result"
    }
   ],
   "source": [
    "products['Sector(s)'].value_counts()"
   ]
  },
  {
   "cell_type": "code",
   "execution_count": 22,
   "metadata": {},
   "outputs": [
    {
     "data": {
      "text/plain": [
       "LC - Digital Learning Platforms                                              74\n",
       "LC - Sites, Resources & Reference                                            47\n",
       "LC - Content Creation & Curation                                             36\n",
       "LC - Study Tools                                                             25\n",
       "LC - Courseware & Textbooks                                                  18\n",
       "LC - Sites, Resources & Reference - Games & Simulations                      18\n",
       "LC/CM/SDO - Other                                                            16\n",
       "LC - Sites, Resources & Reference - Digital Collection & Repository          15\n",
       "CM - Classroom Engagement & Instruction - Classroom Management               11\n",
       "LC - Sites, Resources & Reference - Streaming Services                        9\n",
       "CM - Virtual Classroom - Video Conferencing & Screen Sharing                  7\n",
       "SDO - Data, Analytics & Reporting - Site Hosting & Data Warehousing           6\n",
       "LC - Study Tools - Q&A                                                        6\n",
       "LC - Online Course Providers & Technical Skills Development                   5\n",
       "CM - Classroom Engagement & Instruction - Communication & Messaging           5\n",
       "SDO - Learning Management Systems (LMS)                                       5\n",
       "CM - Classroom Engagement & Instruction - Assessment & Classroom Response     4\n",
       "SDO - Human Resources                                                         4\n",
       "LC - Sites, Resources & Reference - Thesaurus & Dictionary                    4\n",
       "LC - Sites, Resources & Reference - Encyclopedia                              4\n",
       "LC - Sites, Resources & References - Learning Materials & Supplies            4\n",
       "LC - Career Planning & Job Search                                             3\n",
       "CM - Teacher Resources - Professional Learning                                3\n",
       "CM - Teacher Resources - Lesson Planning                                      3\n",
       "LC - Study Tools - Test Prep & Study Skills                                   3\n",
       "SDO - Data, Analytics & Reporting                                             3\n",
       "SDO - School Management Software - Mobile Device Management                   2\n",
       "SDO - School Management Software - SSO                                        2\n",
       "SDO - Data, Analytics & Reporting - Student Information Systems (SIS)         2\n",
       "SDO - Large-Scale & Standardized Testing                                      2\n",
       "SDO - Other                                                                   2\n",
       "SDO - Admissions, Enrollment & Rostering                                      1\n",
       "LC - Study Tools - Tutoring                                                   1\n",
       "CM - Teacher Resources - Grading & Attendance                                 1\n",
       "SDO - Environmental, Health & Safety (EHS) Compliance                         1\n",
       "Name: Primary Essential Function, dtype: int64"
      ]
     },
     "execution_count": 22,
     "metadata": {},
     "output_type": "execute_result"
    }
   ],
   "source": [
    "products['Primary Essential Function'].value_counts()"
   ]
  },
  {
   "cell_type": "code",
   "execution_count": 23,
   "metadata": {},
   "outputs": [
    {
     "data": {
      "text/html": [
       "<div>\n",
       "<style scoped>\n",
       "    .dataframe tbody tr th:only-of-type {\n",
       "        vertical-align: middle;\n",
       "    }\n",
       "\n",
       "    .dataframe tbody tr th {\n",
       "        vertical-align: top;\n",
       "    }\n",
       "\n",
       "    .dataframe thead th {\n",
       "        text-align: right;\n",
       "    }\n",
       "</style>\n",
       "<table border=\"1\" class=\"dataframe\">\n",
       "  <thead>\n",
       "    <tr style=\"text-align: right;\">\n",
       "      <th></th>\n",
       "      <th>time</th>\n",
       "      <th>lp_id</th>\n",
       "      <th>pct_access</th>\n",
       "      <th>engagement_index</th>\n",
       "    </tr>\n",
       "  </thead>\n",
       "  <tbody>\n",
       "    <tr>\n",
       "      <th>0</th>\n",
       "      <td>2020-01-27</td>\n",
       "      <td>32213</td>\n",
       "      <td>100.00</td>\n",
       "      <td>3000.00</td>\n",
       "    </tr>\n",
       "    <tr>\n",
       "      <th>1</th>\n",
       "      <td>2020-02-25</td>\n",
       "      <td>90153</td>\n",
       "      <td>33.33</td>\n",
       "      <td>2666.67</td>\n",
       "    </tr>\n",
       "    <tr>\n",
       "      <th>2</th>\n",
       "      <td>2020-02-25</td>\n",
       "      <td>99916</td>\n",
       "      <td>0.00</td>\n",
       "      <td>NaN</td>\n",
       "    </tr>\n",
       "    <tr>\n",
       "      <th>3</th>\n",
       "      <td>2020-02-25</td>\n",
       "      <td>28504</td>\n",
       "      <td>0.00</td>\n",
       "      <td>NaN</td>\n",
       "    </tr>\n",
       "    <tr>\n",
       "      <th>4</th>\n",
       "      <td>2020-02-25</td>\n",
       "      <td>95731</td>\n",
       "      <td>33.33</td>\n",
       "      <td>333.33</td>\n",
       "    </tr>\n",
       "  </tbody>\n",
       "</table>\n",
       "</div>"
      ],
      "text/plain": [
       "         time  lp_id  pct_access  engagement_index\n",
       "0  2020-01-27  32213      100.00           3000.00\n",
       "1  2020-02-25  90153       33.33           2666.67\n",
       "2  2020-02-25  99916        0.00               NaN\n",
       "3  2020-02-25  28504        0.00               NaN\n",
       "4  2020-02-25  95731       33.33            333.33"
      ]
     },
     "execution_count": 23,
     "metadata": {},
     "output_type": "execute_result"
    }
   ],
   "source": [
    "# How does student engagement with different types of education technology change over the course of the pandemic?\n",
    "file  = 'data/engagement_data/8815.csv'\n",
    "engagement = pd.read_csv(file)\n",
    "engagement.head()"
   ]
  },
  {
   "cell_type": "code",
   "execution_count": 27,
   "metadata": {},
   "outputs": [
    {
     "name": "stdout",
     "output_type": "stream",
     "text": [
      "<class 'pandas.core.frame.DataFrame'>\n",
      "RangeIndex: 134926 entries, 0 to 134925\n",
      "Data columns (total 4 columns):\n",
      "time                134926 non-null object\n",
      "lp_id               134926 non-null int64\n",
      "pct_access          134926 non-null float64\n",
      "engagement_index    103720 non-null float64\n",
      "dtypes: float64(2), int64(1), object(1)\n",
      "memory usage: 4.1+ MB\n"
     ]
    }
   ],
   "source": [
    "engagement.info()"
   ]
  },
  {
   "cell_type": "code",
   "execution_count": 31,
   "metadata": {},
   "outputs": [
    {
     "data": {
      "text/plain": [
       "lp_id\n",
       "95731    311\n",
       "32213    311\n",
       "90153    310\n",
       "99916    310\n",
       "28504    310\n",
       "Name: lp_id, dtype: int64"
      ]
     },
     "execution_count": 31,
     "metadata": {},
     "output_type": "execute_result"
    }
   ],
   "source": [
    "engagement.groupby(by='lp_id')['lp_id'].count().sort_values(ascending=False).head()"
   ]
  },
  {
   "cell_type": "code",
   "execution_count": 37,
   "metadata": {},
   "outputs": [
    {
     "ename": "AttributeError",
     "evalue": "module 'matplotlib' has no attribute 'show'",
     "output_type": "error",
     "traceback": [
      "\u001b[1;31m---------------------------------------------------------------------------\u001b[0m",
      "\u001b[1;31mAttributeError\u001b[0m                            Traceback (most recent call last)",
      "\u001b[1;32m<ipython-input-37-44ace81bb324>\u001b[0m in \u001b[0;36m<module>\u001b[1;34m()\u001b[0m\n\u001b[0;32m      1\u001b[0m \u001b[0mengagement\u001b[0m\u001b[1;33m[\u001b[0m\u001b[0mengagement\u001b[0m\u001b[1;33m[\u001b[0m\u001b[1;34m'lp_id'\u001b[0m\u001b[1;33m]\u001b[0m \u001b[1;33m==\u001b[0m \u001b[1;36m95731\u001b[0m\u001b[1;33m]\u001b[0m\u001b[1;33m[\u001b[0m\u001b[1;34m'engagement_index'\u001b[0m\u001b[1;33m]\u001b[0m\u001b[1;33m.\u001b[0m\u001b[0mplot\u001b[0m\u001b[1;33m(\u001b[0m\u001b[1;33m)\u001b[0m\u001b[1;33m\u001b[0m\u001b[0m\n\u001b[1;32m----> 2\u001b[1;33m \u001b[0mmlt\u001b[0m\u001b[1;33m.\u001b[0m\u001b[0mshow\u001b[0m\u001b[1;33m(\u001b[0m\u001b[1;33m)\u001b[0m\u001b[1;33m\u001b[0m\u001b[0m\n\u001b[0m",
      "\u001b[1;31mAttributeError\u001b[0m: module 'matplotlib' has no attribute 'show'"
     ]
    },
    {
     "data": {
      "image/png": "[encoded data removed]",
      "text/plain": [
       "<matplotlib.figure.Figure at 0x13961dceb38>"
      ]
     },
     "metadata": {},
     "output_type": "display_data"
    }
   ],
   "source": [
    "engagement[engagement['lp_id'] == 95731]['engagement_index'].plot()\n",
    "mlt.show()\n"
   ]
  },
  {
   "cell_type": "code",
   "execution_count": null,
   "metadata": {},
   "outputs": [],
   "source": []
  }
 ],
 "metadata": {
  "kernelspec": {
   "display_name": "Python 3",
   "language": "python",
   "name": "python3"
  },
  "language_info": {
   "codemirror_mode": {
    "name": "ipython",
    "version": 3
   },
   "file_extension": ".py",
   "mimetype": "text/x-python",
   "name": "python",
   "nbconvert_exporter": "python",
   "pygments_lexer": "ipython3",
   "version": "3.6.4"
  }
 },
 "nbformat": 4,
 "nbformat_minor": 2
}
